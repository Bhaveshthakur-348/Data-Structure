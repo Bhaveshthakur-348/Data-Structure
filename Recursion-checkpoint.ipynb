{
 "cells": [
  {
   "cell_type": "markdown",
   "metadata": {},
   "source": [
    "# Recursion"
   ]
  },
  {
   "cell_type": "code",
   "execution_count": 1,
   "metadata": {},
   "outputs": [
    {
     "name": "stdout",
     "output_type": "stream",
     "text": [
      "3\n",
      "2\n",
      "1\n"
     ]
    }
   ],
   "source": [
    "def fun(n) :\n",
    "     if n > 0 :\n",
    "         \n",
    "         print(n)\n",
    "         fun(n-1)\n",
    "fun(3)"
   ]
  },
  {
   "cell_type": "code",
   "execution_count": 2,
   "metadata": {},
   "outputs": [
    {
     "name": "stdout",
     "output_type": "stream",
     "text": [
      "3\n",
      "2\n",
      "1\n",
      "1\n",
      "2\n",
      "1\n",
      "1\n"
     ]
    }
   ],
   "source": [
    "#Tree recursion\n",
    "def fun(n):\n",
    "    if n>0:\n",
    "        print(n)\n",
    "        fun(n-1)\n",
    "        fun(n-1)\n",
    "fun(3)"
   ]
  },
  {
   "cell_type": "code",
   "execution_count": 3,
   "metadata": {},
   "outputs": [
    {
     "name": "stdout",
     "output_type": "stream",
     "text": [
      "fun : 91\n"
     ]
    }
   ],
   "source": [
    "#Nested Recursion\n",
    "def fun(n):\n",
    "    if n>100:\n",
    "        return n-10\n",
    "    else:\n",
    "        return fun(fun(n+11))\n",
    "f=fun(95)\n",
    "print(\"fun :\",f)"
   ]
  },
  {
   "cell_type": "code",
   "execution_count": 4,
   "metadata": {},
   "outputs": [
    {
     "name": "stdout",
     "output_type": "stream",
     "text": [
      "sum is: 15\n"
     ]
    }
   ],
   "source": [
    "\n",
    "#first n natural no's\n",
    "\n",
    "def sum(n):\n",
    "    if n==0:\n",
    "        return 0\n",
    "    else:\n",
    "        return sum(n-1)+n\n",
    "x=sum(5)\n",
    "print(\"sum is:\",x)"
   ]
  },
  {
   "cell_type": "code",
   "execution_count": 5,
   "metadata": {},
   "outputs": [
    {
     "name": "stdout",
     "output_type": "stream",
     "text": [
      "fact is: 120\n"
     ]
    }
   ],
   "source": [
    "#Factorial\n",
    "\n",
    "def fact(n):\n",
    "    if(n==0):\n",
    "        return(1)\n",
    "    else:\n",
    "        return fact(n-1)*n\n",
    "f=fact(5)\n",
    "print(\"fact is:\",f)"
   ]
  },
  {
   "cell_type": "code",
   "execution_count": 6,
   "metadata": {},
   "outputs": [
    {
     "name": "stdout",
     "output_type": "stream",
     "text": [
      "enter any no:4\n",
      "enter power no:2\n",
      "Result: 16\n"
     ]
    }
   ],
   "source": [
    "#Power\n",
    "\n",
    "def power(m,n):\n",
    "    if n==0:\n",
    "        return 1\n",
    "    return power(m,n-1)*m\n",
    "m=int(input(\"enter any no:\"))\n",
    "n=int(input(\"enter power no:\"))\n",
    "print(\"Result:\",power(m,n))"
   ]
  },
  {
   "cell_type": "code",
   "execution_count": 7,
   "metadata": {},
   "outputs": [
    {
     "name": "stdout",
     "output_type": "stream",
     "text": [
      "enter any no:5\n",
      "5\n"
     ]
    }
   ],
   "source": [
    "def fib(n):\n",
    "    if n<=1:\n",
    "        return n\n",
    "    else:\n",
    "        return fib(n-2)+fib(n-1)\n",
    "x=(int(input(\"enter any no:\")))\n",
    "print(fib(x))"
   ]
  },
  {
   "cell_type": "code",
   "execution_count": 8,
   "metadata": {},
   "outputs": [
    {
     "name": "stdout",
     "output_type": "stream",
     "text": [
      "From 1 3\n",
      "From 1 2\n",
      "From 3 2\n",
      "From 1 3\n",
      "From 2 1\n",
      "From 2 3\n",
      "From 1 3\n"
     ]
    }
   ],
   "source": [
    "#Tower of hanoi\n",
    "\n",
    "def Toh(n,A,B,C):\n",
    "    if n>0:\n",
    "        Toh(n-1,A,C,B)\n",
    "        print(\"From\",A,C)\n",
    "        Toh(n-1,B,A,C)\n",
    "Toh(3,1,2,3)"
   ]
  },
  {
   "cell_type": "code",
   "execution_count": null,
   "metadata": {},
   "outputs": [],
   "source": [
    "\n"
   ]
  }
 ],
 "metadata": {
  "kernelspec": {
   "display_name": "Python 3",
   "language": "python",
   "name": "python3"
  },
  "language_info": {
   "codemirror_mode": {
    "name": "ipython",
    "version": 3
   },
   "file_extension": ".py",
   "mimetype": "text/x-python",
   "name": "python",
   "nbconvert_exporter": "python",
   "pygments_lexer": "ipython3",
   "version": "3.7.4"
  }
 },
 "nbformat": 4,
 "nbformat_minor": 2
}
